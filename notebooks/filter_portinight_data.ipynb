{
 "cells": [
  {
   "cell_type": "code",
   "execution_count": 2,
   "metadata": {},
   "outputs": [],
   "source": [
    "import pandas as pd\n",
    "import numpy as np\n",
    "import matplotlib.pyplot as plt\n",
    "from scipy.signal import firwin\n",
    "from tqdm import tqdm\n",
    "from portiloopml.portiloop_python.ANN.wamsley_utils import detect_lacourse\n",
    "import os"
   ]
  },
  {
   "cell_type": "code",
   "execution_count": null,
   "metadata": {},
   "outputs": [],
   "source": [
    "\n",
    "\n",
    "def shift_numpy(arr, num, fill_value=np.nan):\n",
    "    result = np.empty_like(arr)\n",
    "    if num > 0:\n",
    "        result[:num] = fill_value\n",
    "        result[num:] = arr[:-num]\n",
    "    elif num < 0:\n",
    "        result[num:] = fill_value\n",
    "        result[:num] = arr[-num:]\n",
    "    else:\n",
    "        result[:] = arr\n",
    "    return result\n",
    "\n",
    "class FIR:\n",
    "    def __init__(self, nb_channels, coefficients, buffer=None):\n",
    "        \n",
    "        self.coefficients = np.expand_dims(np.array(coefficients), axis=1)\n",
    "        self.taps = len(self.coefficients)\n",
    "        self.nb_channels = nb_channels\n",
    "        self.buffer = np.array(buffer) if buffer is not None else np.zeros((self.taps, self.nb_channels))\n",
    "    \n",
    "    def filter(self, x):\n",
    "        self.buffer = shift_numpy(self.buffer, 1, x)\n",
    "        filtered = np.sum(self.buffer * self.coefficients, axis=0)\n",
    "        return filtered\n",
    "\n",
    "    \n",
    "class FilterPipeline:\n",
    "    def __init__(self,\n",
    "                 nb_channels,\n",
    "                 sampling_rate,\n",
    "                 power_line_fq=60,\n",
    "                 use_custom_fir=False,\n",
    "                 custom_fir_order=20,\n",
    "                 custom_fir_cutoff=30,\n",
    "                 alpha_avg=0.1,\n",
    "                 alpha_std=0.001,\n",
    "                 epsilon=0.000001,\n",
    "                 filter_args=[]):\n",
    "        if len(filter_args) > 0:\n",
    "            use_fir, use_notch, use_std = filter_args\n",
    "        else:\n",
    "            use_fir=True,\n",
    "            use_notch=False,\n",
    "            use_std=True\n",
    "        self.use_fir = use_fir\n",
    "        self.use_notch = use_notch\n",
    "        self.use_std = use_std\n",
    "        self.nb_channels = nb_channels\n",
    "        assert power_line_fq in [50, 60], f\"The only supported power line frequencies are 50 Hz and 60 Hz\"\n",
    "        if power_line_fq == 60:\n",
    "            self.notch_coeff1 = -0.12478308884588535\n",
    "            self.notch_coeff2 = 0.98729186796473023\n",
    "            self.notch_coeff3 = 0.99364593398236511\n",
    "            self.notch_coeff4 = -0.12478308884588535\n",
    "            self.notch_coeff5 = 0.99364593398236511\n",
    "        else:\n",
    "            self.notch_coeff1 = -0.61410695998423581\n",
    "            self.notch_coeff2 =  0.98729186796473023\n",
    "            self.notch_coeff3 = 0.99364593398236511\n",
    "            self.notch_coeff4 = -0.61410695998423581\n",
    "            self.notch_coeff5 = 0.99364593398236511\n",
    "        self.dfs = [np.zeros(self.nb_channels), np.zeros(self.nb_channels)]\n",
    "        \n",
    "        self.moving_average = None\n",
    "        self.moving_variance = np.zeros(self.nb_channels)\n",
    "        self.ALPHA_AVG = alpha_avg\n",
    "        self.ALPHA_STD = alpha_std\n",
    "        self.EPSILON = epsilon\n",
    "        \n",
    "        if use_custom_fir:\n",
    "            self.fir_coef = firwin(numtaps=custom_fir_order+1, cutoff=custom_fir_cutoff, fs=sampling_rate)\n",
    "        else:\n",
    "            self.fir_coef = [\n",
    "                0.001623780150148094927192721215192250384,\n",
    "                0.014988684599373741992978104065059596905,\n",
    "                0.021287595318265635502275046064823982306,\n",
    "                0.007349500393709578957568417933998716762,\n",
    "                -0.025127515717112181709014251396183681209,\n",
    "                -0.052210507359822452833064687638398027048,\n",
    "                -0.039273839505489904766477593511808663607,\n",
    "                0.033021568427940004020193498490698402748,\n",
    "                0.147606943281569008563636202779889572412,\n",
    "                0.254000252034505602516389899392379447818,\n",
    "                0.297330876398883392486283128164359368384,\n",
    "                0.254000252034505602516389899392379447818,\n",
    "                0.147606943281569008563636202779889572412,\n",
    "                0.033021568427940004020193498490698402748,\n",
    "                -0.039273839505489904766477593511808663607,\n",
    "                -0.052210507359822452833064687638398027048,\n",
    "                -0.025127515717112181709014251396183681209,\n",
    "                0.007349500393709578957568417933998716762,\n",
    "                0.021287595318265635502275046064823982306,\n",
    "                0.014988684599373741992978104065059596905,\n",
    "                0.001623780150148094927192721215192250384]\n",
    "        self.fir = FIR(self.nb_channels, self.fir_coef)\n",
    "        \n",
    "    def filter(self, value):\n",
    "        \"\"\"\n",
    "        value: a numpy array of shape (data series, channels)\n",
    "        \"\"\"\n",
    "        for i, x in enumerate(value):  # loop over the data series\n",
    "            # FIR:\n",
    "            if self.use_fir:\n",
    "                x = self.fir.filter(x)\n",
    "            # notch:\n",
    "            if self.use_notch:\n",
    "                denAccum = (x - self.notch_coeff1 * self.dfs[0]) - self.notch_coeff2 * self.dfs[1]\n",
    "                x = (self.notch_coeff3 * denAccum + self.notch_coeff4 * self.dfs[0]) + self.notch_coeff5 * self.dfs[1]\n",
    "                self.dfs[1] = self.dfs[0]\n",
    "                self.dfs[0] = denAccum\n",
    "            # standardization:\n",
    "            if self.use_std:\n",
    "                if self.moving_average is not None:\n",
    "                    delta = x - self.moving_average\n",
    "                    self.moving_average = self.moving_average + self.ALPHA_AVG * delta\n",
    "                    self.moving_variance = (1 - self.ALPHA_STD) * (self.moving_variance + self.ALPHA_STD * delta**2)\n",
    "                    moving_std = np.sqrt(self.moving_variance)\n",
    "                    x = (x - self.moving_average) / (moving_std + self.EPSILON)\n",
    "                else:\n",
    "                    self.moving_average = x\n",
    "            try:\n",
    "                value[i] = x\n",
    "            except:\n",
    "                print(f\"Error in filtering: {x}\")\n",
    "                continue\n",
    "        return value"
   ]
  },
  {
   "cell_type": "code",
   "execution_count": null,
   "metadata": {},
   "outputs": [],
   "source": [
    "def online_detrend(y, alpha=0.95):\n",
    "    detrended_y = np.zeros_like(y)\n",
    "    trend = 0\n",
    "    for i in range(len(y)):\n",
    "        trend = alpha * trend + (1 - alpha) * y[i]\n",
    "        detrended_y[i] = y[i] - trend\n",
    "    return detrended_y"
   ]
  },
  {
   "cell_type": "code",
   "execution_count": null,
   "metadata": {},
   "outputs": [],
   "source": [
    "def raw2filtered(raw):\n",
    "    '''\n",
    "    Take in the raw data and filter it online, detrend it\n",
    "    '''\n",
    "    filtering4lac = FilterPipeline(nb_channels=1, sampling_rate=250, filter_args=[True, True, False])\n",
    "    filtered4lac = []\n",
    "    print(f'Filtering Data Online')\n",
    "    for i in tqdm(raw):\n",
    "        filtered4lac.append(filtering4lac.filter(np.array([i])))\n",
    "\n",
    "    print(f'Detrending Data')\n",
    "    detrended_data = online_detrend(np.array(filtered4lac).flatten())\n",
    "\n",
    "    print(f\"Running Lacourse\")\n",
    "    # data_detect = np.array(detrended_data)\n",
    "    # mask = np.ones(len(data_detect), dtype=bool)\n",
    "    # lacourse = detect_lacourse(\n",
    "    #     data_detect,\n",
    "    #     mask,\n",
    "    #     sampling_rate=250,\n",
    "    # )\n",
    "    lacourse = []\n",
    "\n",
    "    # if len(lacourse) == 0:\n",
    "    #     return None, None, None\n",
    "\n",
    "    # print(f\"Lacourse found {len(lacourse)} spindles\")\n",
    "\n",
    "    # Filter data online like on Portiloop\n",
    "    # print(f\"Filtering Online with standardization\")\n",
    "    # filtering_online = FilterPipeline(nb_channels=1, sampling_rate=250, filter_args=[True, True, True])\n",
    "    # filtered_online = []\n",
    "    # for i in tqdm(raw):\n",
    "    #     filtered_online.append(filtering_online.filter(np.array([i])))\n",
    "    # filtered_online = np.array(detrended_data).flatten()\n",
    "\n",
    "    return detrended_data, lacourse, detrended_data \n"
   ]
  },
  {
   "cell_type": "code",
   "execution_count": null,
   "metadata": {},
   "outputs": [
    {
     "name": "stdout",
     "output_type": "stream",
     "text": [
      "Processing /project/portinight-raw/PN_04_GB/PN_04_GB_Night1_Sham.csv\n"
     ]
    },
    {
     "name": "stderr",
     "output_type": "stream",
     "text": [
      "/tmp/ipykernel_1309187/1504410737.py:11: FutureWarning: Series.fillna with 'method' is deprecated and will raise in a future version. Use obj.ffill() or obj.bfill() instead.\n",
      "  df['converted'] = df['converted'].fillna(method='ffill')\n"
     ]
    }
   ],
   "source": [
    "file = '/project/portinight-raw/PN_04_GB/PN_04_GB_Night1_Sham.csv'\n",
    "print(f\"Processing {file}\")\n",
    "\n",
    "# Get the filename\n",
    "filename = file.split('_')[:-1]\n",
    "filename = '_'.join(filename)\n",
    "\n",
    "df = pd.read_csv(file, on_bad_lines='warn', encoding_errors='ignore')\n",
    "# convert useful data to floats\n",
    "df['converted'] = pd.to_numeric(df.iloc[:, 1], errors='coerce')\n",
    "df['converted'] = df['converted'].fillna(method='ffill')\n",
    "raw = df['converted'].values\n",
    "# filtered4lac, lacourse, filtered_online = raw2filtered(useful_data)"
   ]
  },
  {
   "cell_type": "code",
   "execution_count": 9,
   "metadata": {},
   "outputs": [
    {
     "name": "stdout",
     "output_type": "stream",
     "text": [
      "Filtering Data Online\n"
     ]
    },
    {
     "name": "stderr",
     "output_type": "stream",
     "text": [
      "  0%|          | 0/6261999 [00:00<?, ?it/s]/tmp/ipykernel_1309187/1879190733.py:122: DeprecationWarning: Conversion of an array with ndim > 0 to a scalar is deprecated, and will error in future. Ensure you extract a single element from your array before performing this operation. (Deprecated NumPy 1.25.)\n",
      "  value[i] = x\n",
      "100%|██████████| 6261999/6261999 [02:20<00:00, 44537.31it/s]\n"
     ]
    },
    {
     "name": "stdout",
     "output_type": "stream",
     "text": [
      "Detrending Data\n"
     ]
    }
   ],
   "source": [
    "filtering4lac = FilterPipeline(nb_channels=1, sampling_rate=250, filter_args=[True, True, False])\n",
    "filtered4lac = []\n",
    "print(f'Filtering Data Online')\n",
    "for i in tqdm(raw):\n",
    "    filtered4lac.append(filtering4lac.filter(np.array([i])))\n",
    "\n",
    "print(f'Detrending Data')\n",
    "detrended_data = online_detrend(np.array(filtered4lac).flatten())"
   ]
  },
  {
   "cell_type": "code",
   "execution_count": 11,
   "metadata": {},
   "outputs": [
    {
     "data": {
      "text/plain": [
       "[<matplotlib.lines.Line2D at 0x7f075bcfc1d0>]"
      ]
     },
     "execution_count": 11,
     "metadata": {},
     "output_type": "execute_result"
    },
    {
     "data": {
      "image/png": "[encoded data removed]",
      "text/plain": [
       "<Figure size 640x480 with 1 Axes>"
      ]
     },
     "metadata": {},
     "output_type": "display_data"
    }
   ],
   "source": [
    "plt.plot(raw)"
   ]
  },
  {
   "cell_type": "code",
   "execution_count": 10,
   "metadata": {},
   "outputs": [
    {
     "data": {
      "text/plain": [
       "[<matplotlib.lines.Line2D at 0x7f075bee8750>]"
      ]
     },
     "execution_count": 10,
     "metadata": {},
     "output_type": "execute_result"
    },
    {
     "data": {
      "image/png": "[encoded data removed]",
      "text/plain": [
       "<Figure size 640x480 with 1 Axes>"
      ]
     },
     "metadata": {},
     "output_type": "display_data"
    }
   ],
   "source": [
    "plt.plot(filtered4lac)"
   ]
  },
  {
   "cell_type": "code",
   "execution_count": 20,
   "metadata": {},
   "outputs": [
    {
     "data": {
      "text/plain": [
       "[<matplotlib.lines.Line2D at 0x7f075a1796d0>]"
      ]
     },
     "execution_count": 20,
     "metadata": {},
     "output_type": "execute_result"
    },
    {
     "data": {
      "image/png": "[encoded data removed]",
      "text/plain": [
       "<Figure size 640x480 with 1 Axes>"
      ]
     },
     "metadata": {},
     "output_type": "display_data"
    }
   ],
   "source": [
    "plt.plot(detrended_data[2000000:2000500])"
   ]
  },
  {
   "cell_type": "code",
   "execution_count": 22,
   "metadata": {},
   "outputs": [
    {
     "name": "stdout",
     "output_type": "stream",
     "text": [
      "Running Lacourse\n"
     ]
    },
    {
     "name": "stderr",
     "output_type": "stream",
     "text": [
      "/home/ubuntu/anaconda3/envs/portiloop-training/lib/python3.11/site-packages/numpy/core/_methods.py:206: RuntimeWarning: Degrees of freedom <= 0 for slice\n",
      "  ret = _var(a, axis=axis, dtype=dtype, out=out, ddof=ddof,\n",
      "/home/ubuntu/anaconda3/envs/portiloop-training/lib/python3.11/site-packages/numpy/core/_methods.py:163: RuntimeWarning: invalid value encountered in divide\n",
      "  arrmean = um.true_divide(arrmean, div, out=arrmean,\n",
      "/home/ubuntu/anaconda3/envs/portiloop-training/lib/python3.11/site-packages/numpy/core/_methods.py:198: RuntimeWarning: invalid value encountered in scalar divide\n",
      "  ret = ret.dtype.type(ret / rcount)\n",
      "/home/ubuntu/anaconda3/envs/portiloop-training/lib/python3.11/site-packages/wonambi/detect/spindle.py:1521: RuntimeWarning: divide by zero encountered in scalar divide\n",
      "  out[i] = (dat[i] - mean(windat)) / std(stddat)\n"
     ]
    }
   ],
   "source": [
    "print(f\"Running Lacourse\")\n",
    "data_detect = np.array(detrended_data)\n",
    "mask = np.ones(len(data_detect), dtype=bool)\n",
    "lacourse = detect_lacourse(\n",
    "    data_detect,\n",
    "    mask,\n",
    "    sampling_rate=250,\n",
    ")"
   ]
  },
  {
   "cell_type": "code",
   "execution_count": 36,
   "metadata": {},
   "outputs": [
    {
     "name": "stderr",
     "output_type": "stream",
     "text": [
      "/home/ubuntu/anaconda3/envs/portiloop-training/lib/python3.11/site-packages/numpy/core/_methods.py:206: RuntimeWarning: Degrees of freedom <= 0 for slice\n",
      "  ret = _var(a, axis=axis, dtype=dtype, out=out, ddof=ddof,\n",
      "/home/ubuntu/anaconda3/envs/portiloop-training/lib/python3.11/site-packages/numpy/core/_methods.py:163: RuntimeWarning: invalid value encountered in divide\n",
      "  arrmean = um.true_divide(arrmean, div, out=arrmean,\n",
      "/home/ubuntu/anaconda3/envs/portiloop-training/lib/python3.11/site-packages/numpy/core/_methods.py:198: RuntimeWarning: invalid value encountered in scalar divide\n",
      "  ret = ret.dtype.type(ret / rcount)\n",
      "/home/ubuntu/anaconda3/envs/portiloop-training/lib/python3.11/site-packages/wonambi/detect/spindle.py:1521: RuntimeWarning: divide by zero encountered in scalar divide\n",
      "  out[i] = (dat[i] - mean(windat)) / std(stddat)\n"
     ]
    }
   ],
   "source": [
    "# Run lacourse in segments of one hour\n",
    "lacourse_seg = []\n",
    "length_seg = 250 * 60 * 60\n",
    "for i in range(0, len(data_detect), length_seg):\n",
    "    if i + length_seg > len(data_detect):\n",
    "        data_detect_seg = data_detect[i:]\n",
    "    else:  \n",
    "        data_detect_seg = data_detect[i:i+length_seg]\n",
    "\n",
    "    mask = np.ones(len(data_detect_seg), dtype=bool)\n",
    "    segmented_lac = detect_lacourse(\n",
    "        data_detect_seg,\n",
    "        mask,\n",
    "        sampling_rate=250,\n",
    "    )\n",
    "    lacourse_seg += [[x + i for x in seg_spindle] for seg_spindle in segmented_lac]"
   ]
  },
  {
   "cell_type": "code",
   "execution_count": 39,
   "metadata": {},
   "outputs": [
    {
     "data": {
      "text/plain": [
       "1307"
      ]
     },
     "execution_count": 39,
     "metadata": {},
     "output_type": "execute_result"
    }
   ],
   "source": [
    "len(lacourse_seg)"
   ]
  },
  {
   "cell_type": "code",
   "execution_count": 66,
   "metadata": {},
   "outputs": [
    {
     "name": "stdout",
     "output_type": "stream",
     "text": [
      "Processing PN_05_EC_Night4_Sham.csv\n"
     ]
    },
    {
     "name": "stderr",
     "output_type": "stream",
     "text": [
      "Skipping line 2233136: expected 7 fields, saw 10\n",
      "Skipping line 2233229: expected 7 fields, saw 11\n",
      "\n",
      "Skipping line 2416571: expected 7 fields, saw 9\n",
      "\n",
      "Skipping line 2814674: expected 7 fields, saw 8\n",
      "\n",
      "Skipping line 3565848: expected 7 fields, saw 8\n",
      "\n",
      "Skipping line 4763812: expected 7 fields, saw 10\n",
      "\n",
      "Skipping line 5900663: expected 7 fields, saw 8\n",
      "\n",
      "Skipping line 6283234: expected 7 fields, saw 9\n",
      "\n",
      "/tmp/ipykernel_1309187/3439872492.py:17: DtypeWarning: Columns (1) have mixed types. Specify dtype option on import or set low_memory=False.\n",
      "  df = pd.read_csv(path + file, on_bad_lines='warn', encoding_errors='ignore')\n",
      "/tmp/ipykernel_1309187/3439872492.py:20: FutureWarning: Series.fillna with 'method' is deprecated and will raise in a future version. Use obj.ffill() or obj.bfill() instead.\n",
      "  df['converted'] = df['converted'].fillna(method='ffill')\n"
     ]
    },
    {
     "name": "stdout",
     "output_type": "stream",
     "text": [
      "Filtering Data Online\n"
     ]
    },
    {
     "name": "stderr",
     "output_type": "stream",
     "text": [
      "  0%|          | 0/7506665 [00:00<?, ?it/s]/tmp/ipykernel_1309187/1879190733.py:122: DeprecationWarning: Conversion of an array with ndim > 0 to a scalar is deprecated, and will error in future. Ensure you extract a single element from your array before performing this operation. (Deprecated NumPy 1.25.)\n",
      "  value[i] = x\n",
      "100%|██████████| 7506665/7506665 [02:51<00:00, 43702.26it/s]\n"
     ]
    },
    {
     "name": "stdout",
     "output_type": "stream",
     "text": [
      "Detrending Data\n",
      "Running Lacourse\n",
      "Processing PN_05_EC_Night3_Stim.csv\n"
     ]
    },
    {
     "ename": "ParserError",
     "evalue": "Error tokenizing data. C error: Calling read(nbytes) on source failed. Try engine='python'.",
     "output_type": "error",
     "traceback": [
      "\u001b[0;31m---------------------------------------------------------------------------\u001b[0m",
      "\u001b[0;31mParserError\u001b[0m                               Traceback (most recent call last)",
      "Cell \u001b[0;32mIn[66], line 17\u001b[0m\n\u001b[1;32m     14\u001b[0m filename \u001b[38;5;241m=\u001b[39m file\u001b[38;5;241m.\u001b[39msplit(\u001b[38;5;124m'\u001b[39m\u001b[38;5;124m_\u001b[39m\u001b[38;5;124m'\u001b[39m)[:\u001b[38;5;241m-\u001b[39m\u001b[38;5;241m1\u001b[39m]\n\u001b[1;32m     15\u001b[0m filename \u001b[38;5;241m=\u001b[39m \u001b[38;5;124m'\u001b[39m\u001b[38;5;124m_\u001b[39m\u001b[38;5;124m'\u001b[39m\u001b[38;5;241m.\u001b[39mjoin(filename)\n\u001b[0;32m---> 17\u001b[0m df \u001b[38;5;241m=\u001b[39m pd\u001b[38;5;241m.\u001b[39mread_csv(path \u001b[38;5;241m+\u001b[39m file, on_bad_lines\u001b[38;5;241m=\u001b[39m\u001b[38;5;124m'\u001b[39m\u001b[38;5;124mwarn\u001b[39m\u001b[38;5;124m'\u001b[39m, encoding_errors\u001b[38;5;241m=\u001b[39m\u001b[38;5;124m'\u001b[39m\u001b[38;5;124mignore\u001b[39m\u001b[38;5;124m'\u001b[39m)\n\u001b[1;32m     18\u001b[0m \u001b[38;5;66;03m# convert useful data to floats\u001b[39;00m\n\u001b[1;32m     19\u001b[0m df[\u001b[38;5;124m'\u001b[39m\u001b[38;5;124mconverted\u001b[39m\u001b[38;5;124m'\u001b[39m] \u001b[38;5;241m=\u001b[39m pd\u001b[38;5;241m.\u001b[39mto_numeric(df\u001b[38;5;241m.\u001b[39miloc[:, \u001b[38;5;241m1\u001b[39m], errors\u001b[38;5;241m=\u001b[39m\u001b[38;5;124m'\u001b[39m\u001b[38;5;124mcoerce\u001b[39m\u001b[38;5;124m'\u001b[39m)\n",
      "File \u001b[0;32m~/anaconda3/envs/portiloop-training/lib/python3.11/site-packages/pandas/io/parsers/readers.py:948\u001b[0m, in \u001b[0;36mread_csv\u001b[0;34m(filepath_or_buffer, sep, delimiter, header, names, index_col, usecols, dtype, engine, converters, true_values, false_values, skipinitialspace, skiprows, skipfooter, nrows, na_values, keep_default_na, na_filter, verbose, skip_blank_lines, parse_dates, infer_datetime_format, keep_date_col, date_parser, date_format, dayfirst, cache_dates, iterator, chunksize, compression, thousands, decimal, lineterminator, quotechar, quoting, doublequote, escapechar, comment, encoding, encoding_errors, dialect, on_bad_lines, delim_whitespace, low_memory, memory_map, float_precision, storage_options, dtype_backend)\u001b[0m\n\u001b[1;32m    935\u001b[0m kwds_defaults \u001b[38;5;241m=\u001b[39m _refine_defaults_read(\n\u001b[1;32m    936\u001b[0m     dialect,\n\u001b[1;32m    937\u001b[0m     delimiter,\n\u001b[0;32m   (...)\u001b[0m\n\u001b[1;32m    944\u001b[0m     dtype_backend\u001b[38;5;241m=\u001b[39mdtype_backend,\n\u001b[1;32m    945\u001b[0m )\n\u001b[1;32m    946\u001b[0m kwds\u001b[38;5;241m.\u001b[39mupdate(kwds_defaults)\n\u001b[0;32m--> 948\u001b[0m \u001b[38;5;28;01mreturn\u001b[39;00m _read(filepath_or_buffer, kwds)\n",
      "File \u001b[0;32m~/anaconda3/envs/portiloop-training/lib/python3.11/site-packages/pandas/io/parsers/readers.py:617\u001b[0m, in \u001b[0;36m_read\u001b[0;34m(filepath_or_buffer, kwds)\u001b[0m\n\u001b[1;32m    614\u001b[0m     \u001b[38;5;28;01mreturn\u001b[39;00m parser\n\u001b[1;32m    616\u001b[0m \u001b[38;5;28;01mwith\u001b[39;00m parser:\n\u001b[0;32m--> 617\u001b[0m     \u001b[38;5;28;01mreturn\u001b[39;00m parser\u001b[38;5;241m.\u001b[39mread(nrows)\n",
      "File \u001b[0;32m~/anaconda3/envs/portiloop-training/lib/python3.11/site-packages/pandas/io/parsers/readers.py:1748\u001b[0m, in \u001b[0;36mTextFileReader.read\u001b[0;34m(self, nrows)\u001b[0m\n\u001b[1;32m   1741\u001b[0m nrows \u001b[38;5;241m=\u001b[39m validate_integer(\u001b[38;5;124m\"\u001b[39m\u001b[38;5;124mnrows\u001b[39m\u001b[38;5;124m\"\u001b[39m, nrows)\n\u001b[1;32m   1742\u001b[0m \u001b[38;5;28;01mtry\u001b[39;00m:\n\u001b[1;32m   1743\u001b[0m     \u001b[38;5;66;03m# error: \"ParserBase\" has no attribute \"read\"\u001b[39;00m\n\u001b[1;32m   1744\u001b[0m     (\n\u001b[1;32m   1745\u001b[0m         index,\n\u001b[1;32m   1746\u001b[0m         columns,\n\u001b[1;32m   1747\u001b[0m         col_dict,\n\u001b[0;32m-> 1748\u001b[0m     ) \u001b[38;5;241m=\u001b[39m \u001b[38;5;28mself\u001b[39m\u001b[38;5;241m.\u001b[39m_engine\u001b[38;5;241m.\u001b[39mread(  \u001b[38;5;66;03m# type: ignore[attr-defined]\u001b[39;00m\n\u001b[1;32m   1749\u001b[0m         nrows\n\u001b[1;32m   1750\u001b[0m     )\n\u001b[1;32m   1751\u001b[0m \u001b[38;5;28;01mexcept\u001b[39;00m \u001b[38;5;167;01mException\u001b[39;00m:\n\u001b[1;32m   1752\u001b[0m     \u001b[38;5;28mself\u001b[39m\u001b[38;5;241m.\u001b[39mclose()\n",
      "File \u001b[0;32m~/anaconda3/envs/portiloop-training/lib/python3.11/site-packages/pandas/io/parsers/c_parser_wrapper.py:234\u001b[0m, in \u001b[0;36mCParserWrapper.read\u001b[0;34m(self, nrows)\u001b[0m\n\u001b[1;32m    232\u001b[0m \u001b[38;5;28;01mtry\u001b[39;00m:\n\u001b[1;32m    233\u001b[0m     \u001b[38;5;28;01mif\u001b[39;00m \u001b[38;5;28mself\u001b[39m\u001b[38;5;241m.\u001b[39mlow_memory:\n\u001b[0;32m--> 234\u001b[0m         chunks \u001b[38;5;241m=\u001b[39m \u001b[38;5;28mself\u001b[39m\u001b[38;5;241m.\u001b[39m_reader\u001b[38;5;241m.\u001b[39mread_low_memory(nrows)\n\u001b[1;32m    235\u001b[0m         \u001b[38;5;66;03m# destructive to chunks\u001b[39;00m\n\u001b[1;32m    236\u001b[0m         data \u001b[38;5;241m=\u001b[39m _concatenate_chunks(chunks)\n",
      "File \u001b[0;32mparsers.pyx:843\u001b[0m, in \u001b[0;36mpandas._libs.parsers.TextReader.read_low_memory\u001b[0;34m()\u001b[0m\n",
      "File \u001b[0;32mparsers.pyx:904\u001b[0m, in \u001b[0;36mpandas._libs.parsers.TextReader._read_rows\u001b[0;34m()\u001b[0m\n",
      "File \u001b[0;32mparsers.pyx:879\u001b[0m, in \u001b[0;36mpandas._libs.parsers.TextReader._tokenize_rows\u001b[0;34m()\u001b[0m\n",
      "File \u001b[0;32mparsers.pyx:890\u001b[0m, in \u001b[0;36mpandas._libs.parsers.TextReader._check_tokenize_status\u001b[0;34m()\u001b[0m\n",
      "File \u001b[0;32mparsers.pyx:2058\u001b[0m, in \u001b[0;36mpandas._libs.parsers.raise_parser_error\u001b[0;34m()\u001b[0m\n",
      "\u001b[0;31mParserError\u001b[0m: Error tokenizing data. C error: Calling read(nbytes) on source failed. Try engine='python'."
     ]
    }
   ],
   "source": [
    "path = '/project/portinight-raw/PN_05_EC/'\n",
    "save_path = '/project/portinight-dataset/'\n",
    "subject_id = 'PN_05_EC'\n",
    "age = 24\n",
    "gender = 'F'\n",
    "\n",
    "# Iterate through all the csvs in the folder\n",
    "data = {}\n",
    "for idx, file in enumerate(os.listdir(path)):\n",
    "    if file.endswith(\".csv\"):\n",
    "        print(f\"Processing {file}\")\n",
    "\n",
    "        # Get the filename\n",
    "        filename = file.split('_')[:-1]\n",
    "        filename = '_'.join(filename)\n",
    "\n",
    "        df = pd.read_csv(path + file, on_bad_lines='warn', encoding_errors='ignore')\n",
    "        # convert useful data to floats\n",
    "        df['converted'] = pd.to_numeric(df.iloc[:, 1], errors='coerce')\n",
    "        df['converted'] = df['converted'].fillna(method='ffill')\n",
    "        useful_data = df['converted'].values\n",
    "        filtered4lac, lacourse, filtered_online = raw2filtered(useful_data)\n",
    "\n",
    "        if filtered4lac is None:\n",
    "            print(f\"No spindles found in {file}, skipping\")\n",
    "            continue\n",
    "\n",
    "        spindle_info_mass = {}\n",
    "        spindle_info_mass[filename] = {\n",
    "            'onsets': [],\n",
    "            'offsets': [],\n",
    "            'labels_num': []\n",
    "        }\n",
    "\n",
    "        for spindle in lacourse:\n",
    "            spindle_info_mass[filename]['onsets'].append(spindle[0])\n",
    "            spindle_info_mass[filename]['offsets'].append(spindle[1])\n",
    "            spindle_info_mass[filename]['labels_num'].append(1)\n",
    "\n",
    "        data[filename] = {}\n",
    "\n",
    "        data[filename]['age'] = age\n",
    "        data[filename]['gender'] = gender\n",
    "        data[filename]['signal_mass'] = filtered4lac\n",
    "        data[filename]['signal_filt'] = filtered_online\n",
    "        data[filename]['ss_label'] = np.ones(len(filtered4lac)) * 5\n",
    "        data[filename]['spindle_mass_lacourse'] = spindle_info_mass\n",
    "\n",
    "print(f\"Saving f{subject_id}.npz\")\n",
    "np.savez_compressed(os.path.join(save_path, f\"{subject_id}.npz\"), data)\n"
   ]
  },
  {
   "cell_type": "code",
   "execution_count": 36,
   "metadata": {},
   "outputs": [
    {
     "data": {
      "text/plain": [
       "0"
      ]
     },
     "execution_count": 36,
     "metadata": {},
     "output_type": "execute_result"
    }
   ],
   "source": [
    "# Count how many NaNs are in the data\n",
    "df['converted'].isna().sum()"
   ]
  },
  {
   "cell_type": "code",
   "execution_count": 8,
   "metadata": {},
   "outputs": [],
   "source": [
    "save_path = '/project/MASS/mass_spindles_dataset'\n",
    "# save_path = '/project/portinight-dataset/'\n",
    "subject_id = 'PN_02_MS'\n",
    "\n",
    "# Try loading the portinight data:\n",
    "data = np.load(os.path.join(save_path, f\"{subject_id}.npz\"), allow_pickle=True)"
   ]
  },
  {
   "cell_type": "code",
   "execution_count": 9,
   "metadata": {},
   "outputs": [
    {
     "data": {
      "text/plain": [
       "dict_keys(['PN_02_MS_Night2', 'PN_02_MS_Night3', 'PN_02_MS_Night1', 'PN_02_MS_Night4'])"
      ]
     },
     "execution_count": 9,
     "metadata": {},
     "output_type": "execute_result"
    }
   ],
   "source": [
    "data = data['arr_0'].item()\n",
    "data.keys()"
   ]
  },
  {
   "cell_type": "code",
   "execution_count": 77,
   "metadata": {},
   "outputs": [
    {
     "data": {
      "text/plain": [
       "7118999"
      ]
     },
     "execution_count": 77,
     "metadata": {},
     "output_type": "execute_result"
    }
   ],
   "source": [
    "len(data['PN_05_EC_Night2']['signal_mass'])"
   ]
  },
  {
   "cell_type": "code",
   "execution_count": 69,
   "metadata": {},
   "outputs": [],
   "source": [
    "# Save the cleaned data\n",
    "np.savez_compressed(os.path.join(save_path, f\"{subject_id}.npz\"), data)"
   ]
  },
  {
   "cell_type": "code",
   "execution_count": 2,
   "metadata": {},
   "outputs": [
    {
     "name": "stdout",
     "output_type": "stream",
     "text": [
      "Time taken to load PN_01_HJ_Night4: 7.2182457447052\n",
      "Time taken to load 01-01-0001: 2.9380064010620117\n",
      "Time taken to create lookup table: 1.574547290802002\n",
      "Number of sampleable indices: 14841701\n",
      "Number of spindle indexes: 422714\n",
      "Number of spindles: 2301\n",
      "Number of N1 indexes: 0\n",
      "Number of N2 indexes: 0\n",
      "Number of N3 indexes: 0\n",
      "Number of R indexes: 0\n",
      "Number of W indexes: 0\n"
     ]
    }
   ],
   "source": [
    "from portiloopml.portiloop_python.ANN.data.mass_data_new import MassDataset\n",
    "\n",
    "data_path = '/project/MASS/mass_spindles_dataset/'\n",
    "subjects = ['PN_01_HJ_Night4', '01-01-0001']\n",
    "\n",
    "dataset = MassDataset(data_path, 30, 30, 30, subjects=subjects, use_filtered=False, sampleable='spindles', compute_spindle_labels=False)"
   ]
  },
  {
   "cell_type": "code",
   "execution_count": 5,
   "metadata": {},
   "outputs": [
    {
     "name": "stdout",
     "output_type": "stream",
     "text": [
      "PN_04_GB_Night5_Sham\n",
      "Time taken to load PN_04_GB_Night5_Sham: 6.58555793762207\n",
      "Time taken to create lookup table: 0.10268807411193848\n",
      "Number of sampleable indices: 1372065\n",
      "Number of spindle indexes: 0\n",
      "Number of spindles: 0\n",
      "Number of N1 indexes: 0\n",
      "Number of N2 indexes: 0\n",
      "Number of N3 indexes: 0\n",
      "Number of R indexes: 0\n",
      "Number of W indexes: 0\n"
     ]
    }
   ],
   "source": [
    "# Read the list of subjects from the file\n",
    "subject_list_path = '/project/MASS/mass_spindles_dataset/subjects_portinight.txt'\n",
    "\n",
    "with open(subject_list_path, 'r') as f:\n",
    "    subjects = f.readlines()\n",
    "\n",
    "subjects = [x.strip() for x in subjects]\n",
    "\n",
    "subject = subjects[12]\n",
    "print(subject)\n",
    "\n",
    "dataset = MassDataset(data_path, 30, 30, 30, subjects=[subject], use_filtered=False, sampleable='spindles', compute_spindle_labels=False)"
   ]
  },
  {
   "cell_type": "code",
   "execution_count": 11,
   "metadata": {},
   "outputs": [
    {
     "data": {
      "text/plain": [
       "1372964"
      ]
     },
     "execution_count": 11,
     "metadata": {},
     "output_type": "execute_result"
    }
   ],
   "source": [
    "len(dataset.data['PN_04_GB_Night5_Sham']['signal'])"
   ]
  },
  {
   "cell_type": "code",
   "execution_count": 10,
   "metadata": {},
   "outputs": [
    {
     "name": "stdout",
     "output_type": "stream",
     "text": [
      "Processing PN_06_MA.npz\n",
      "dict_keys(['PN_06_MAS_Night6', 'PN_06_MAS_Night2', 'PN_06_MAS_Night4', 'PN_06_MAS_Night3', 'PN_06_MAS_Night5', 'PN_06_MAS_Night1'])\n",
      "PN_06_MAS_Night6\n",
      "dict_keys(['age', 'gender', 'signal_mass', 'signal_filt', 'ss_label', 'spindle_mass_lacourse'])\n",
      "(8351999,)\n",
      "(8351999,)\n",
      "(8351999,)\n",
      "PN_06_MAS_Night2\n",
      "dict_keys(['age', 'gender', 'signal_mass', 'signal_filt', 'ss_label', 'spindle_mass_lacourse'])\n",
      "(7085864,)\n",
      "(7085864,)\n",
      "(7085864,)\n",
      "PN_06_MAS_Night4\n",
      "dict_keys(['age', 'gender', 'signal_mass', 'signal_filt', 'ss_label', 'spindle_mass_lacourse'])\n",
      "(6897423,)\n",
      "(6897423,)\n",
      "(6897423,)\n",
      "PN_06_MAS_Night3\n",
      "dict_keys(['age', 'gender', 'signal_mass', 'signal_filt', 'ss_label', 'spindle_mass_lacourse'])\n",
      "(6750854,)\n",
      "(6750854,)\n",
      "(6750854,)\n",
      "PN_06_MAS_Night5\n",
      "dict_keys(['age', 'gender', 'signal_mass', 'signal_filt', 'ss_label', 'spindle_mass_lacourse'])\n",
      "(8545854,)\n",
      "(8545854,)\n",
      "(8545854,)\n",
      "PN_06_MAS_Night1\n",
      "dict_keys(['age', 'gender', 'signal_mass', 'signal_filt', 'ss_label', 'spindle_mass_lacourse'])\n",
      "(7036999,)\n",
      "(7036999,)\n",
      "(7036999,)\n",
      "Processing PN_08_AC.npz\n",
      "dict_keys(['PN_08_AC_Night6a', 'PN_08_AC_Night6b', 'PN_08_AC_Night5', 'PN_08_AC_Night2', 'PN_08_AC_Night3', 'PN_08_AC_Night4'])\n",
      "PN_08_AC_Night6a\n",
      "dict_keys(['age', 'gender', 'signal_mass', 'signal_filt', 'ss_label', 'spindle_mass_lacourse'])\n",
      "(2162978,)\n",
      "(2162978,)\n",
      "(2162978,)\n",
      "PN_08_AC_Night6b\n",
      "dict_keys(['age', 'gender', 'signal_mass', 'signal_filt', 'ss_label', 'spindle_mass_lacourse'])\n",
      "(5021967,)\n",
      "(5021967,)\n",
      "(5021967,)\n",
      "PN_08_AC_Night5\n",
      "dict_keys(['age', 'gender', 'signal_mass', 'signal_filt', 'ss_label', 'spindle_mass_lacourse'])\n",
      "(6268914,)\n",
      "(6268914,)\n",
      "(6268914,)\n",
      "PN_08_AC_Night2\n",
      "dict_keys(['age', 'gender', 'signal_mass', 'signal_filt', 'ss_label', 'spindle_mass_lacourse'])\n",
      "(6655663,)\n",
      "(6655663,)\n",
      "(6655663,)\n",
      "PN_08_AC_Night3\n",
      "dict_keys(['age', 'gender', 'signal_mass', 'signal_filt', 'ss_label', 'spindle_mass_lacourse'])\n",
      "(6836126,)\n",
      "(6836126,)\n",
      "(6836126,)\n",
      "PN_08_AC_Night4\n",
      "dict_keys(['age', 'gender', 'signal_mass', 'signal_filt', 'ss_label', 'spindle_mass_lacourse'])\n",
      "(7431566,)\n",
      "(7431566,)\n",
      "(7431566,)\n",
      "Processing PN_04_GB.npz\n",
      "dict_keys(['PN_04_GB_Night5_Sham', 'PN_04_GB_Night4', 'PN_04_GB_Night6', 'PN_04_GB_Night2', 'PN_04_GB_Night3', 'PN_04_GB_Night1'])\n",
      "PN_04_GB_Night5_Sham\n",
      "dict_keys(['age', 'gender', 'signal_mass', 'signal_filt', 'ss_label', 'spindle_mass_lacourse'])\n",
      "(1372964,)\n",
      "(1372964,)\n",
      "(1372964,)\n",
      "PN_04_GB_Night4\n",
      "dict_keys(['age', 'gender', 'signal_mass', 'signal_filt', 'ss_label', 'spindle_mass_lacourse'])\n",
      "(5373599,)\n",
      "(5373599,)\n",
      "(5373599,)\n",
      "PN_04_GB_Night6\n",
      "dict_keys(['age', 'gender', 'signal_mass', 'signal_filt', 'ss_label', 'spindle_mass_lacourse'])\n",
      "(4254674,)\n",
      "(4254674,)\n",
      "(4254674,)\n",
      "PN_04_GB_Night2\n",
      "dict_keys(['age', 'gender', 'signal_mass', 'signal_filt', 'ss_label', 'spindle_mass_lacourse'])\n",
      "(6900999,)\n",
      "(6900999,)\n",
      "(6900999,)\n",
      "PN_04_GB_Night3\n",
      "dict_keys(['age', 'gender', 'signal_mass', 'signal_filt', 'ss_label', 'spindle_mass_lacourse'])\n",
      "(5499999,)\n",
      "(5499999,)\n",
      "(5499999,)\n",
      "PN_04_GB_Night1\n",
      "dict_keys(['age', 'gender', 'signal_mass', 'signal_filt', 'ss_label', 'spindle_mass_lacourse'])\n",
      "(6261999,)\n",
      "(6261999,)\n",
      "(6261999,)\n",
      "Processing PN_02_MS.npz\n",
      "dict_keys(['PN_02_MS_Night4', 'PN_02_MS_Night2', 'PN_02_MS_Night6', 'PN_02_MS_Night5', 'PN_02_MS_Night3', 'PN_02_MS_Night1'])\n",
      "PN_02_MS_Night4\n",
      "dict_keys(['age', 'gender', 'signal_mass', 'signal_filt', 'ss_label', 'spindle_mass_lacourse'])\n",
      "(3458999,)\n",
      "(3458999,)\n",
      "(3458999,)\n",
      "PN_02_MS_Night2\n",
      "dict_keys(['age', 'gender', 'signal_mass', 'signal_filt', 'ss_label', 'spindle_mass_lacourse'])\n",
      "(4773999,)\n",
      "(4773999,)\n",
      "(4773999,)\n",
      "PN_02_MS_Night6\n",
      "dict_keys(['age', 'gender', 'signal_mass', 'signal_filt', 'ss_label', 'spindle_mass_lacourse'])\n",
      "(6682999,)\n",
      "(6682999,)\n",
      "(6682999,)\n",
      "PN_02_MS_Night5\n",
      "dict_keys(['age', 'gender', 'signal_mass', 'signal_filt', 'ss_label', 'spindle_mass_lacourse'])\n",
      "(8127999,)\n",
      "(8127999,)\n",
      "(8127999,)\n",
      "PN_02_MS_Night3\n",
      "dict_keys(['age', 'gender', 'signal_mass', 'signal_filt', 'ss_label', 'spindle_mass_lacourse'])\n",
      "(6612999,)\n",
      "(6612999,)\n",
      "(6612999,)\n",
      "PN_02_MS_Night1\n",
      "dict_keys(['age', 'gender', 'signal_mass', 'signal_filt', 'ss_label', 'spindle_mass_lacourse'])\n",
      "(6828999,)\n",
      "(6828999,)\n",
      "(6828999,)\n",
      "Processing PN_05_EC.npz\n",
      "dict_keys(['PN_05_EC_Night3', 'PN_05_EC_Night1', 'PN_05_EC_Night4', 'PN_05_EC_Night2'])\n",
      "PN_05_EC_Night3\n",
      "dict_keys(['age', 'gender', 'signal_mass', 'signal_filt', 'ss_label', 'spindle_mass_lacourse'])\n",
      "(6319999,)\n",
      "(6319999,)\n",
      "(6319999,)\n",
      "PN_05_EC_Night1\n",
      "dict_keys(['age', 'gender', 'signal_mass', 'signal_filt', 'ss_label', 'spindle_mass_lacourse'])\n",
      "(6699999,)\n",
      "(6699999,)\n",
      "(6699999,)\n",
      "PN_05_EC_Night4\n",
      "dict_keys(['age', 'gender', 'signal_mass', 'signal_filt', 'ss_label', 'spindle_mass_lacourse'])\n",
      "(7506665,)\n",
      "(7506665,)\n",
      "(7506665,)\n",
      "PN_05_EC_Night2\n",
      "dict_keys(['age', 'gender', 'signal_mass', 'signal_filt', 'ss_label', 'spindle_mass_lacourse'])\n",
      "(7118999,)\n",
      "(7118999,)\n",
      "(7118999,)\n",
      "Processing PN_01_HJ.npz\n",
      "dict_keys(['PN_01_HJ_Night1', 'PN_01_HJ_Night4', 'PN_01_HJ_Night5', 'PN_01_HJ_Night6', 'PN_01_HJ_Night3'])\n",
      "PN_01_HJ_Night1\n",
      "dict_keys(['age', 'gender', 'signal_mass', 'signal_filt', 'ss_label', 'spindle_mass_lacourse'])\n",
      "(3763765,)\n",
      "(3763765,)\n",
      "(3763765,)\n",
      "PN_01_HJ_Night4\n",
      "dict_keys(['age', 'gender', 'signal_mass', 'signal_filt', 'ss_label', 'spindle_mass_lacourse'])\n",
      "(7204999,)\n",
      "(7204999,)\n",
      "(7204999,)\n",
      "PN_01_HJ_Night5\n",
      "dict_keys(['age', 'gender', 'signal_mass', 'signal_filt', 'ss_label', 'spindle_mass_lacourse'])\n",
      "(7961931,)\n",
      "(7961931,)\n",
      "(7961931,)\n",
      "PN_01_HJ_Night6\n",
      "dict_keys(['age', 'gender', 'signal_mass', 'signal_filt', 'ss_label', 'spindle_mass_lacourse'])\n",
      "(5623560,)\n",
      "(5623560,)\n",
      "(5623560,)\n",
      "PN_01_HJ_Night3\n",
      "dict_keys(['age', 'gender', 'signal_mass', 'signal_filt', 'ss_label', 'spindle_mass_lacourse'])\n",
      "(6373659,)\n",
      "(6373659,)\n",
      "(6373659,)\n",
      "Processing PN_03_CL.npz\n",
      "dict_keys(['PN_03_CL_Night3', 'PN_03_CL_Night6', 'PN_03_CL_Night4', 'PN_03_CL_Night2', 'PN_03_CL_Night1'])\n",
      "PN_03_CL_Night3\n",
      "dict_keys(['age', 'gender', 'signal_mass', 'signal_filt', 'ss_label', 'spindle_mass_lacourse'])\n",
      "(6562999,)\n",
      "(6562999,)\n",
      "(6562999,)\n",
      "PN_03_CL_Night6\n",
      "dict_keys(['age', 'gender', 'signal_mass', 'signal_filt', 'ss_label', 'spindle_mass_lacourse'])\n",
      "(6627999,)\n",
      "(6627999,)\n",
      "(6627999,)\n",
      "PN_03_CL_Night4\n",
      "dict_keys(['age', 'gender', 'signal_mass', 'signal_filt', 'ss_label', 'spindle_mass_lacourse'])\n",
      "(7291999,)\n",
      "(7291999,)\n",
      "(7291999,)\n",
      "PN_03_CL_Night2\n",
      "dict_keys(['age', 'gender', 'signal_mass', 'signal_filt', 'ss_label', 'spindle_mass_lacourse'])\n",
      "(6637999,)\n",
      "(6637999,)\n",
      "(6637999,)\n",
      "PN_03_CL_Night1\n",
      "dict_keys(['age', 'gender', 'signal_mass', 'signal_filt', 'ss_label', 'spindle_mass_lacourse'])\n",
      "(6967999,)\n",
      "(6967999,)\n",
      "(6967999,)\n",
      "Processing PN_07_CB.npz\n",
      "dict_keys(['PN_07_CB_NightD', 'PN_07_CB_NightE', 'PN_07_CB_NightF', 'PN_07_CB_NightC'])\n",
      "PN_07_CB_NightD\n",
      "dict_keys(['age', 'gender', 'signal_mass', 'signal_filt', 'ss_label', 'spindle_mass_lacourse'])\n",
      "(6362953,)\n",
      "(6362953,)\n",
      "(6362953,)\n",
      "PN_07_CB_NightE\n",
      "dict_keys(['age', 'gender', 'signal_mass', 'signal_filt', 'ss_label', 'spindle_mass_lacourse'])\n",
      "(4705999,)\n",
      "(4705999,)\n",
      "(4705999,)\n",
      "PN_07_CB_NightF\n",
      "dict_keys(['age', 'gender', 'signal_mass', 'signal_filt', 'ss_label', 'spindle_mass_lacourse'])\n",
      "(5640999,)\n",
      "(5640999,)\n",
      "(5640999,)\n",
      "PN_07_CB_NightC\n",
      "dict_keys(['age', 'gender', 'signal_mass', 'signal_filt', 'ss_label', 'spindle_mass_lacourse'])\n",
      "(5860999,)\n",
      "(5860999,)\n",
      "(5860999,)\n"
     ]
    }
   ],
   "source": [
    "# Iterate through all files in the dataset and list all the files\n",
    "save_path = '/project/MASS/mass_spindles_dataset'\n",
    "\n",
    "subject_names = []\n",
    "for file in os.listdir(save_path):\n",
    "    if file.startswith(\"PN_\"):\n",
    "        print(f\"Processing {file}\")\n",
    "        data = np.load(os.path.join(save_path, file), allow_pickle=True)\n",
    "        data = data['arr_0'].item()\n",
    "        subject_names += list(data.keys())\n",
    "        print(data.keys())\n",
    "        for key in data.keys():\n",
    "            print(key)\n",
    "            print(data[key].keys())\n",
    "            print(data[key]['signal_mass'].shape)\n",
    "            print(data[key]['signal_filt'].shape)\n",
    "            print(data[key]['ss_label'].shape)   "
   ]
  },
  {
   "cell_type": "code",
   "execution_count": 11,
   "metadata": {},
   "outputs": [
    {
     "data": {
      "text/plain": [
       "['PN_06_MAS_Night6',\n",
       " 'PN_06_MAS_Night2',\n",
       " 'PN_06_MAS_Night4',\n",
       " 'PN_06_MAS_Night3',\n",
       " 'PN_06_MAS_Night5',\n",
       " 'PN_06_MAS_Night1',\n",
       " 'PN_08_AC_Night6a',\n",
       " 'PN_08_AC_Night6b',\n",
       " 'PN_08_AC_Night5',\n",
       " 'PN_08_AC_Night2',\n",
       " 'PN_08_AC_Night3',\n",
       " 'PN_08_AC_Night4',\n",
       " 'PN_04_GB_Night5_Sham',\n",
       " 'PN_04_GB_Night4',\n",
       " 'PN_04_GB_Night6',\n",
       " 'PN_04_GB_Night2',\n",
       " 'PN_04_GB_Night3',\n",
       " 'PN_04_GB_Night1',\n",
       " 'PN_02_MS_Night4',\n",
       " 'PN_02_MS_Night2',\n",
       " 'PN_02_MS_Night6',\n",
       " 'PN_02_MS_Night5',\n",
       " 'PN_02_MS_Night3',\n",
       " 'PN_02_MS_Night1',\n",
       " 'PN_05_EC_Night3',\n",
       " 'PN_05_EC_Night1',\n",
       " 'PN_05_EC_Night4',\n",
       " 'PN_05_EC_Night2',\n",
       " 'PN_01_HJ_Night1',\n",
       " 'PN_01_HJ_Night4',\n",
       " 'PN_01_HJ_Night5',\n",
       " 'PN_01_HJ_Night6',\n",
       " 'PN_01_HJ_Night3',\n",
       " 'PN_03_CL_Night3',\n",
       " 'PN_03_CL_Night6',\n",
       " 'PN_03_CL_Night4',\n",
       " 'PN_03_CL_Night2',\n",
       " 'PN_03_CL_Night1',\n",
       " 'PN_07_CB_NightD',\n",
       " 'PN_07_CB_NightE',\n",
       " 'PN_07_CB_NightF',\n",
       " 'PN_07_CB_NightC']"
      ]
     },
     "execution_count": 11,
     "metadata": {},
     "output_type": "execute_result"
    }
   ],
   "source": [
    "subject_names"
   ]
  },
  {
   "cell_type": "code",
   "execution_count": 21,
   "metadata": {},
   "outputs": [],
   "source": [
    "# Write all the subject names to a file\n",
    "subject_list_path = '/project/MASS/mass_spindles_dataset/subjects_portinight.txt'\n",
    "\n",
    "with open(subject_list_path, 'w') as f:\n",
    "    for subject in subject_names:\n",
    "        f.write(f\"{subject}\\n\")\n",
    "        "
   ]
  }
 ],
 "metadata": {
  "kernelspec": {
   "display_name": "portiloop-training",
   "language": "python",
   "name": "python3"
  },
  "language_info": {
   "codemirror_mode": {
    "name": "ipython",
    "version": 3
   },
   "file_extension": ".py",
   "mimetype": "text/x-python",
   "name": "python",
   "nbconvert_exporter": "python",
   "pygments_lexer": "ipython3",
   "version": "3.11.4"
  }
 },
 "nbformat": 4,
 "nbformat_minor": 2
}
